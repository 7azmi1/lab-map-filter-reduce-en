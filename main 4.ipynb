{
  "cells": [
    {
      "cell_type": "markdown",
      "metadata": {
        "id": "M4l4qVTW1ZUV"
      },
      "source": [
        "# Before your start:\n",
        "- Read the README.md file\n",
        "- Comment as much as you can and use the resources in the README.md file\n",
        "- Happy learning!"
      ]
    },
    {
      "cell_type": "code",
      "execution_count": 1,
      "metadata": {
        "id": "mJA61dAH1ZUW"
      },
      "outputs": [],
      "source": [
        "# Import reduce from functools, numpy and pandas\n",
        "from functools import reduce\n",
        "import numpy\n",
        "import pandas"
      ]
    },
    {
      "cell_type": "markdown",
      "metadata": {
        "id": "dc1wHn2C1ZUW"
      },
      "source": [
        "# Challenge 1 - Mapping\n",
        "\n",
        "#### We will use the map function to clean up words in a book.\n",
        "\n",
        "In the following cell, we will read a text file containing the book The Prophet by Khalil Gibran."
      ]
    },
    {
      "cell_type": "code",
      "execution_count": 6,
      "metadata": {
        "id": "3Sq_D3yq1ZUX"
      },
      "outputs": [],
      "source": [
        "# Run this code:\n",
        "\n",
        "location = \"/content/58585-0.txt\"\n",
        "with open(location, 'r', encoding=\"utf8\") as f:\n",
        "    prophet = f.read().split(' ')"
      ]
    },
    {
      "cell_type": "code",
      "execution_count": 7,
      "metadata": {
        "colab": {
          "base_uri": "https://localhost:8080/"
        },
        "id": "fL8Q7mPm1ZUX",
        "outputId": "276de54e-1dc1-4cd4-8d00-9d6dc1471551"
      },
      "outputs": [
        {
          "output_type": "execute_result",
          "data": {
            "text/plain": [
              "13637"
            ]
          },
          "metadata": {},
          "execution_count": 7
        }
      ],
      "source": [
        "len(prophet)"
      ]
    },
    {
      "cell_type": "markdown",
      "metadata": {
        "id": "n4rnx1vz1ZUX"
      },
      "source": [
        "#### Let's remove the first 568 words since they contain information about the book but are not part of the book itself.\n",
        "\n",
        "Do this by removing from `prophet` elements 0 through 567 of the list (you can also do this by keeping elements 568 through the last element)."
      ]
    },
    {
      "cell_type": "code",
      "execution_count": 8,
      "metadata": {
        "colab": {
          "base_uri": "https://localhost:8080/"
        },
        "id": "q4ouYsJz1ZUX",
        "outputId": "0f7b829c-fd57-4cb6-925b-bdf54de23c0f"
      },
      "outputs": [
        {
          "output_type": "stream",
          "name": "stdout",
          "text": [
            "['PROPHET\\n\\n|Almustafa,', 'the{7}', 'chosen', 'and', 'the\\nbeloved,', 'who', 'was', 'a', 'dawn', 'unto', 'his', 'own\\nday,', 'had', 'waited', 'twelve', 'years', 'in', 'the', 'city\\nof', 'Orphalese', 'for', 'his', 'ship', 'that', 'was', 'to\\nreturn', 'and', 'bear', 'him', 'back', 'to', 'the', 'isle', 'of\\nhis', 'birth.\\n\\nAnd', 'in', 'the', 'twelfth', 'year,', 'on', 'the', 'seventh\\nday', 'of', 'Ielool,', 'the', 'month', 'of', 'reaping,', 'he\\nclimbed', 'the']\n"
          ]
        }
      ],
      "source": [
        "# your code here\n",
        "\n",
        "prophet = prophet[568:]\n",
        "\n",
        "\n",
        "print(prophet[:50])"
      ]
    },
    {
      "cell_type": "markdown",
      "metadata": {
        "id": "fdXTNqYZ1ZUY"
      },
      "source": [
        "\n",
        "\n",
        "```\n",
        "# This is formatted as code\n",
        "```\n",
        "\n",
        "If you look through the words, you will find that many words have a reference attached to them. For example, let's look at words 1 through 10."
      ]
    },
    {
      "cell_type": "code",
      "execution_count": 9,
      "metadata": {
        "colab": {
          "base_uri": "https://localhost:8080/"
        },
        "id": "7LfvI1NG1ZUY",
        "outputId": "626e0d38-3f17-4dbf-ec80-3dfc2fae6754"
      },
      "outputs": [
        {
          "output_type": "stream",
          "name": "stdout",
          "text": [
            "['PROPHET\\n\\n|Almustafa,', 'the{7}', 'chosen', 'and', 'the\\nbeloved,', 'who', 'was', 'a', 'dawn', 'unto']\n"
          ]
        }
      ],
      "source": [
        "# your code here\n",
        "print(prophet[:10])"
      ]
    },
    {
      "cell_type": "markdown",
      "metadata": {
        "id": "qmxhEH7Y1ZUY"
      },
      "source": [
        "#### The next step is to create a function that will remove references.\n",
        "\n",
        "We will do this by splitting the string on the `{` character and keeping only the part before this character. Write your function below."
      ]
    },
    {
      "cell_type": "code",
      "execution_count": 10,
      "metadata": {
        "id": "dKX8G7aG1ZUY"
      },
      "outputs": [],
      "source": [
        "def reference(x):\n",
        "    '''\n",
        "    Input: A string\n",
        "    Output: The string with references removed\n",
        "\n",
        "    Example:\n",
        "    Input: 'the{7}'\n",
        "    Output: 'the'\n",
        "    '''\n",
        "\n",
        "    # your code here\n",
        "    return x.split('{')[0]"
      ]
    },
    {
      "cell_type": "code",
      "execution_count": 11,
      "metadata": {
        "colab": {
          "base_uri": "https://localhost:8080/"
        },
        "id": "a8-pB9Jf1ZUY",
        "outputId": "8767b742-adca-4cb7-b158-7754e70f1810"
      },
      "outputs": [
        {
          "output_type": "stream",
          "name": "stdout",
          "text": [
            "the\n",
            "word\n",
            "example\n"
          ]
        }
      ],
      "source": [
        "\n",
        "print(reference('the{7}'))\n",
        "print(reference('word{15}'))\n",
        "print(reference('example'))"
      ]
    },
    {
      "cell_type": "markdown",
      "metadata": {
        "id": "LX3Kz5G31ZUZ"
      },
      "source": [
        "Now that we have our function, use the `map()` function to apply this function to our book, The Prophet. Return the resulting list to a new list called `prophet_reference`."
      ]
    },
    {
      "cell_type": "code",
      "execution_count": 12,
      "metadata": {
        "colab": {
          "base_uri": "https://localhost:8080/"
        },
        "id": "0xemQhmH1ZUZ",
        "outputId": "9467ff3d-ce40-41bb-d0da-6496cf6f72c5"
      },
      "outputs": [
        {
          "output_type": "stream",
          "name": "stdout",
          "text": [
            "['PROPHET\\n\\n|Almustafa,', 'the', 'chosen', 'and', 'the\\nbeloved,', 'who', 'was', 'a', 'dawn', 'unto', 'his', 'own\\nday,', 'had', 'waited', 'twelve', 'years', 'in', 'the', 'city\\nof', 'Orphalese', 'for', 'his', 'ship', 'that', 'was', 'to\\nreturn', 'and', 'bear', 'him', 'back', 'to', 'the', 'isle', 'of\\nhis', 'birth.\\n\\nAnd', 'in', 'the', 'twelfth', 'year,', 'on', 'the', 'seventh\\nday', 'of', 'Ielool,', 'the', 'month', 'of', 'reaping,', 'he\\nclimbed', 'the']\n"
          ]
        }
      ],
      "source": [
        "# your code here\n",
        "\n",
        "prophet_reference = list(map(reference, prophet))\n",
        "\n",
        "print(prophet_reference[:50])  #"
      ]
    },
    {
      "cell_type": "markdown",
      "metadata": {
        "id": "RwtAjFe61ZUZ"
      },
      "source": [
        "Another thing you may have noticed is that some words contain a line break. Let's write a function to split those words. Our function will return the string split on the character `\\n`. Write your function in the cell below."
      ]
    },
    {
      "cell_type": "code",
      "execution_count": 16,
      "metadata": {
        "colab": {
          "base_uri": "https://localhost:8080/"
        },
        "id": "kDomDSis1ZUZ",
        "outputId": "a18a0d30-0467-447f-df18-817b6d011a25"
      },
      "outputs": [
        {
          "output_type": "stream",
          "name": "stdout",
          "text": [
            "['the', 'beloved']\n",
            "['word']\n",
            "['hello', 'world', 'python']\n"
          ]
        }
      ],
      "source": [
        "def line_break(x):\n",
        "    '''\n",
        "    Input: A string\n",
        "    Output: A list of strings split on the line break (\\n) character\n",
        "\n",
        "    Example:\n",
        "    Input: 'the\\nbeloved'\n",
        "    Output: ['the', 'beloved']\n",
        "    '''\n",
        "    return x.split('\\n')\n",
        "\n",
        "# Test cases\n",
        "print(line_break('the\\nbeloved'))\n",
        "print(line_break('word'))\n",
        "print(line_break('hello\\nworld\\npython'))"
      ]
    },
    {
      "cell_type": "markdown",
      "metadata": {
        "id": "zOFDgMTr1ZUZ"
      },
      "source": [
        "Apply the `line_break` function to the `prophet_reference` list. Name the new list `prophet_line`."
      ]
    },
    {
      "cell_type": "code",
      "execution_count": 17,
      "metadata": {
        "scrolled": true,
        "colab": {
          "base_uri": "https://localhost:8080/"
        },
        "id": "8WtLEIiq1ZUZ",
        "outputId": "faafe028-f78d-4a1a-eedb-883fd611b4c8"
      },
      "outputs": [
        {
          "output_type": "stream",
          "name": "stdout",
          "text": [
            "[['PROPHET', '', '|Almustafa,'], ['the'], ['chosen'], ['and'], ['the', 'beloved,'], ['who'], ['was'], ['a'], ['dawn'], ['unto']]\n"
          ]
        }
      ],
      "source": [
        "# your code here\n",
        "prophet_line = list(map(line_break, prophet_reference))\n",
        "\n",
        "\n",
        "print(prophet_line[:10])"
      ]
    },
    {
      "cell_type": "markdown",
      "metadata": {
        "id": "BemgXptG1ZUZ"
      },
      "source": [
        "If you look at the elements of `prophet_line`, you will see that the function returned lists and not strings. Our list is now a list of lists. Flatten the list using list comprehension. Assign this new list to `prophet_flat`."
      ]
    },
    {
      "cell_type": "code",
      "execution_count": null,
      "metadata": {
        "id": "reOKGcTq1ZUZ"
      },
      "outputs": [],
      "source": [
        "prophet_flat = [i for sub in prophet_line for i in sub]\n",
        "prophet_flat"
      ]
    },
    {
      "cell_type": "code",
      "execution_count": 18,
      "metadata": {
        "colab": {
          "base_uri": "https://localhost:8080/"
        },
        "id": "zbxze3Go1ZUZ",
        "outputId": "ad6747d0-302c-4cd7-ae6b-0f6569e6b863"
      },
      "outputs": [
        {
          "output_type": "stream",
          "name": "stdout",
          "text": [
            "['PROPHET', '', '|Almustafa,', 'the', 'chosen', 'and', 'the', 'beloved,', 'who', 'was']\n"
          ]
        }
      ],
      "source": [
        "# your code here\n",
        "\n",
        "\n",
        "prophet_flat = [i for sub in prophet_line for i in sub]\n",
        "\n",
        "print(prophet_flat[:10])"
      ]
    },
    {
      "cell_type": "markdown",
      "metadata": {
        "id": "345azI_W1ZUa"
      },
      "source": [
        "# Challenge 2 - Filtering\n",
        "\n",
        "When printing out a few words from the book, we see that there are words that we may not want to keep if we choose to analyze the corpus of text. Below is a list of words that we would like to get rid of. Create a function that will return false if it contains a word from the list of words specified and true otherwise."
      ]
    },
    {
      "cell_type": "code",
      "execution_count": 21,
      "metadata": {
        "colab": {
          "base_uri": "https://localhost:8080/"
        },
        "id": "k4-6lUSk1ZUa",
        "outputId": "281ae38f-86c4-4feb-887f-24a9491f30ef"
      },
      "outputs": [
        {
          "output_type": "stream",
          "name": "stdout",
          "text": [
            "False\n",
            "True\n",
            "False\n",
            "True\n"
          ]
        }
      ],
      "source": [
        "def word_filter(x):\n",
        "    '''\n",
        "    Input: A string\n",
        "    Output: True if the word is not in the specified list\n",
        "    and False if the word is in the list.\n",
        "\n",
        "    Example:\n",
        "    word list = ['and', 'the']\n",
        "    Input: 'and'\n",
        "    Output: False\n",
        "\n",
        "    Input: 'John'\n",
        "    Output: True\n",
        "    '''\n",
        "\n",
        "    word_list = ['and', 'the', 'a', 'an']\n",
        "\n",
        "    return x not in word_list\n",
        "\n",
        "print(word_filter('and'))\n",
        "print(word_filter('John'))\n",
        "print(word_filter('the'))\n",
        "print(word_filter('book'))\n"
      ]
    },
    {
      "cell_type": "markdown",
      "metadata": {
        "id": "LKHz61tu1ZUa"
      },
      "source": [
        "Use the `filter()` function to filter out the words speficied in the `word_filter()` function. Store the filtered list in the variable `prophet_filter`."
      ]
    },
    {
      "cell_type": "code",
      "execution_count": 22,
      "metadata": {
        "scrolled": true,
        "colab": {
          "base_uri": "https://localhost:8080/"
        },
        "id": "6X7zL67n1ZUa",
        "outputId": "e6d60d6e-8db1-4324-f230-8e3f9d7133b4"
      },
      "outputs": [
        {
          "output_type": "stream",
          "name": "stdout",
          "text": [
            "['PROPHET', '', '|Almustafa,', 'chosen', 'beloved,', 'who', 'was', 'dawn', 'unto', 'his', 'own', 'day,', 'had', 'waited', 'twelve', 'years', 'in', 'city', 'of', 'Orphalese', 'for', 'his', 'ship', 'that', 'was', 'to', 'return', 'bear', 'him', 'back', 'to', 'isle', 'of', 'his', 'birth.', '', 'And', 'in', 'twelfth', 'year,', 'on', 'seventh', 'day', 'of', 'Ielool,', 'month', 'of', 'reaping,', 'he', 'climbed']\n"
          ]
        }
      ],
      "source": [
        "# your code here\n",
        "prophet_filter = list(filter(word_filter, prophet_flat))\n",
        "\n",
        "print(prophet_filter[:50])\n"
      ]
    },
    {
      "cell_type": "markdown",
      "metadata": {
        "id": "35cn1SXT1ZUa"
      },
      "source": [
        "# Bonus Challenge\n",
        "\n",
        "Rewrite the `word_filter` function above to not be case sensitive."
      ]
    },
    {
      "cell_type": "code",
      "execution_count": null,
      "metadata": {
        "id": "9B5r7s8G1ZUa"
      },
      "outputs": [],
      "source": [
        "def word_filter_case(x):\n",
        "\n",
        "    word_list = ['and', 'the', 'a', 'an']\n",
        "\n",
        "    # your code here"
      ]
    },
    {
      "cell_type": "markdown",
      "metadata": {
        "id": "IH7Q0exx1ZUa"
      },
      "source": [
        "# Challenge 3 - Reducing\n",
        "\n",
        "#### Now that we have significantly cleaned up our text corpus, let's use the `reduce()` function to put the words back together into one long string separated by spaces.\n",
        "\n",
        "We will start by writing a function that takes two strings and concatenates them together with a space between the two strings."
      ]
    },
    {
      "cell_type": "code",
      "execution_count": 23,
      "metadata": {
        "id": "ET_1vV3v1ZUa"
      },
      "outputs": [],
      "source": [
        "def concat_space(a, b):\n",
        "    '''\n",
        "    Input:Two strings\n",
        "    Output: A single string separated by a space\n",
        "\n",
        "    Example:\n",
        "    Input: 'John', 'Smith'\n",
        "    Output: 'John Smith'\n",
        "    '''\n",
        "\n",
        "    # your code here\n",
        "    return a + \" \" + b"
      ]
    },
    {
      "cell_type": "code",
      "execution_count": 24,
      "metadata": {
        "scrolled": true,
        "colab": {
          "base_uri": "https://localhost:8080/"
        },
        "id": "R8aLp8IY1ZUa",
        "outputId": "83439587-7934-4faa-abf5-3c8ff66d96e3"
      },
      "outputs": [
        {
          "output_type": "stream",
          "name": "stdout",
          "text": [
            "John Smith\n",
            "Hello World\n"
          ]
        }
      ],
      "source": [
        "# your code here\n",
        "print(concat_space('John', 'Smith'))\n",
        "print(concat_space('Hello', 'World'))"
      ]
    },
    {
      "cell_type": "markdown",
      "metadata": {
        "id": "4_mH2_cB1ZUa"
      },
      "source": [
        "Use the function above to reduce the text corpus in the list `prophet_filter` into a single string. Assign this new string to the variable `prophet_string`."
      ]
    },
    {
      "cell_type": "code",
      "execution_count": 25,
      "metadata": {
        "colab": {
          "base_uri": "https://localhost:8080/"
        },
        "id": "mFJf6uSk1ZUb",
        "outputId": "745be2c3-64de-4b2d-8012-b47d7c2bee52"
      },
      "outputs": [
        {
          "output_type": "stream",
          "name": "stdout",
          "text": [
            "PROPHET  |Almustafa, chosen beloved, who was dawn unto his own day, had waited twelve years in city of Orphalese for his ship that was to return bear him back to isle of his birth.  And in twelfth yea\n"
          ]
        }
      ],
      "source": [
        "# your code here\n",
        "from functools import reduce\n",
        "\n",
        "prophet_string = reduce(concat_space, prophet_filter)\n",
        "\n",
        "print(prophet_string[:200])"
      ]
    }
  ],
  "metadata": {
    "kernelspec": {
      "display_name": "Python 3 (ipykernel)",
      "language": "python",
      "name": "python3"
    },
    "language_info": {
      "codemirror_mode": {
        "name": "ipython",
        "version": 3
      },
      "file_extension": ".py",
      "mimetype": "text/x-python",
      "name": "python",
      "nbconvert_exporter": "python",
      "pygments_lexer": "ipython3",
      "version": "3.9.13"
    },
    "colab": {
      "provenance": []
    }
  },
  "nbformat": 4,
  "nbformat_minor": 0
}